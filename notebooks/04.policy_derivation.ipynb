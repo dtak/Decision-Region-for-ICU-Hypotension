{
 "cells": [
  {
   "cell_type": "markdown",
   "metadata": {},
   "source": [
    "# Data Loading"
   ]
  },
  {
   "cell_type": "markdown",
   "metadata": {},
   "source": [
    "Must receive the following files:  \n",
    "- `tmat`: transition matrix (Sbar x Abar x Sbar). Must be normalized and include terminal states.\n",
    "- `mortprobs`: mortality probabilities ((Sbar - 2) x Abar)  \n",
    "- `urine_avg`, `map_avg`: average urine and MAP levels for each non-mort cluster (Sbar - 2) "
   ]
  },
  {
   "cell_type": "markdown",
   "metadata": {},
   "source": [
    "**Note** we assume in the transition matrix that A comes before D in the mortality states. "
   ]
  },
  {
   "cell_type": "code",
   "execution_count": 1,
   "metadata": {},
   "outputs": [],
   "source": [
    "import numpy as np"
   ]
  },
  {
   "cell_type": "code",
   "execution_count": 97,
   "metadata": {},
   "outputs": [],
   "source": [
    "# load above files here\n",
    "\n",
    "version_date = '12012021'\n",
    "\n",
    "tmat = np.load(f'../results//tmat_hierarchical_large_only_{version_date}.npy')\n",
    "mortprobs = np.load(f'../MIMIC_dp_eda/mortprobs_hierarchical_large_only_{version_date}.npy')\n",
    "urine_avg = np.load(f'../MIMIC_dp_eda/urines_hierarchical_large_only_{version_date}.npy')\n",
    "map_avg = np.load(f'../MIMIC_dp_eda/maps_hierarchical_large_only_{version_date}.npy')\n",
    "tsa = np.load(f'../MIMIC_dp_eda/tsa_hierarchical_large_only_{version_date}.npy')\n",
    "tsa_norm = np.load(f'../MIMIC_dp_eda/tsa_norm_hierarchical_large_only_{version_date}.npy')\n",
    "\n",
    "KCONST = tmat.shape[0] - 2\n",
    "tmat[KCONST, :, :] = 0\n",
    "tmat[KCONST+1, :, :] = 0\n",
    "tmat[KCONST, :, KCONST] = 1\n",
    "tmat[KCONST+1, :, KCONST+1] = 1\n",
    "\n",
    "# Fill up transition matrix. \n",
    "# If not sum to 1, make evenly distributed\n",
    "xs, ys = np.where(np.sum(tmat, axis=2) == 0)\n",
    "for x, y in zip(xs, ys):\n",
    "    tmat[x, y] = 1 / (tmat.shape[2])"
   ]
  },
  {
   "cell_type": "markdown",
   "metadata": {},
   "source": [
    "# Preprocessing"
   ]
  },
  {
   "cell_type": "markdown",
   "metadata": {},
   "source": [
    "Make sure that T is stochastic, otherwise your algorithm will not converge, and that mort states are terminal."
   ]
  },
  {
   "cell_type": "code",
   "execution_count": 99,
   "metadata": {
    "scrolled": false
   },
   "outputs": [
    {
     "name": "stdout",
     "output_type": "stream",
     "text": [
      "[1. 1. 1. 1.]\n",
      "[1. 1. 1. 1.]\n"
     ]
    }
   ],
   "source": [
    "print(tmat[KCONST, :, KCONST])\n",
    "print(tmat[KCONST+1, :, KCONST+1])"
   ]
  },
  {
   "cell_type": "code",
   "execution_count": 100,
   "metadata": {},
   "outputs": [
    {
     "data": {
      "text/plain": [
       "(19, 4)"
      ]
     },
     "execution_count": 100,
     "metadata": {},
     "output_type": "execute_result"
    }
   ],
   "source": [
    "tsa_norm.shape"
   ]
  },
  {
   "cell_type": "code",
   "execution_count": 101,
   "metadata": {},
   "outputs": [],
   "source": [
    "#unseen_x, unseen_y = np.where((np.abs(np.sum(tmat[:-2], axis=2) - 1) < 1e-4) == False)\n",
    "unseen_x, unseen_y = np.where((tsa < 3) | (tsa_norm < 0.1))\n"
   ]
  },
  {
   "cell_type": "code",
   "execution_count": 102,
   "metadata": {
    "scrolled": true
   },
   "outputs": [
    {
     "data": {
      "text/plain": [
       "(array([ 0,  0,  0,  1,  1,  2,  3,  3,  4,  4,  5,  5,  5,  6,  6,  7,  7,\n",
       "         8,  8,  9,  9, 10, 10, 11, 11, 12, 12, 13, 13, 14, 14, 15, 16, 16,\n",
       "        17, 18]),\n",
       " array([1, 2, 3, 2, 3, 1, 2, 3, 2, 3, 1, 2, 3, 0, 1, 0, 1, 2, 3, 2, 3, 0,\n",
       "        1, 2, 3, 0, 1, 0, 1, 0, 1, 1, 0, 2, 3, 1]))"
      ]
     },
     "execution_count": 102,
     "metadata": {},
     "output_type": "execute_result"
    }
   ],
   "source": [
    "unseen_x, unseen_y"
   ]
  },
  {
   "cell_type": "markdown",
   "metadata": {},
   "source": [
    "## Reward Functions"
   ]
  },
  {
   "cell_type": "markdown",
   "metadata": {},
   "source": [
    "1: piecewise function based on average urine and MAP of `s'`. For mort states, r(A) = 0 and r(D) = -1 (the extremes of the piecewise reward)."
   ]
  },
  {
   "cell_type": "code",
   "execution_count": 103,
   "metadata": {},
   "outputs": [],
   "source": [
    "URINE_OUTPUT_THRESH = 30 #if urine is above this, we're not too worried about BP if it's above 55\n",
    "MAP_UO_THRESH = 55 #as long as MAP is above this, give max reward as long as UO is ok\n",
    "\n",
    "def lin_reward_func(bps, cutoffs=[60, 75, 80, 85], vals=[-1, -0.15, -0.05, 0]):\n",
    "    return np.interp(bps, cutoffs, vals)"
   ]
  },
  {
   "cell_type": "code",
   "execution_count": null,
   "metadata": {},
   "outputs": [],
   "source": [
    "piecewise_vec = lin_reward_func(map_avg)\n",
    "piecewise_vec = np.append(piecewise_vec, [0, 0]) # add room for mort states\n",
    "\n",
    "piecewise_reward = np.tile(piecewise_vec, (KCONST + 2, 4, 1))\n",
    "\n",
    "piecewise_reward[:, :, KCONST+1] = -1\n",
    "piecewise_reward[KCONST+1, :, KCONST+1] = 0 # accts for repeating terminating state\n",
    "piecewise_reward[unseen_x, unseen_y] = -100"
   ]
  },
  {
   "cell_type": "markdown",
   "metadata": {},
   "source": [
    "2: inverse of the mortality probability for `(s, a)`.  \n",
    "For now, we use negative of the probability. 0 reward for leaving a mort state."
   ]
  },
  {
   "cell_type": "code",
   "execution_count": 105,
   "metadata": {},
   "outputs": [],
   "source": [
    "mortprob_small = np.concatenate([-mortprobs, np.zeros((2, 4))])\n",
    "mortprob_small = np.expand_dims(mortprob_small, axis=2)\n",
    "\n",
    "mortprob_reward = np.tile(mortprob_small, (1, 1, KCONST + 2))\n",
    "\n",
    "mortprob_reward[KCONST, :, :] = 0\n",
    "mortprob_reward[KCONST+1, :, :] = 0\n",
    "mortprob_reward[unseen_x, unseen_y] = -100"
   ]
  },
  {
   "cell_type": "markdown",
   "metadata": {},
   "source": [
    "3: terminal 1/0 reward for A/D states, respectively, based on `s'`. "
   ]
  },
  {
   "cell_type": "code",
   "execution_count": 106,
   "metadata": {},
   "outputs": [],
   "source": [
    "terminal_reward = np.zeros((KCONST + 2, 4, KCONST + 2))\n",
    "terminal_reward[:, :, KCONST] = 0\n",
    "terminal_reward[KCONST, :, KCONST] = 0 # accts for repeating terminating state\n",
    "terminal_reward[:, :, KCONST+1] = -1\n",
    "terminal_reward[KCONST + 1, :, KCONST + 1] = 0\n",
    "terminal_reward[unseen_x, unseen_y] = -100"
   ]
  },
  {
   "cell_type": "markdown",
   "metadata": {},
   "source": [
    "You should now have three reward functions in `(Sbar, Abar, Sbar)` shape: `piecewise_reward`, `mortprob_reward`, and `terminal_reward`. "
   ]
  },
  {
   "cell_type": "markdown",
   "metadata": {},
   "source": [
    "# Planning Algorithm"
   ]
  },
  {
   "cell_type": "markdown",
   "metadata": {},
   "source": [
    "Value-iteration (cross-checked against MDP toolbox, Andrew's CS282 HW1 solution). "
   ]
  },
  {
   "cell_type": "code",
   "execution_count": 107,
   "metadata": {},
   "outputs": [],
   "source": [
    "def vi(T, R, discount, tolerance=1e-3, max_iters=1000):\n",
    "    '''\n",
    "        Takes in transition matrix and reward matrix of the same shapes. \n",
    "        Returns the estimated Q-function and deterministic policy.\n",
    "    '''\n",
    "    \n",
    "    num_s = T.shape[0]\n",
    "    num_a = T.shape[1]\n",
    "    Q = np.random.uniform(size=(num_s, num_a))\n",
    "    #Q = np.zeros((num_s, num_a))\n",
    "    Q[KCONST, :] = 0\n",
    "    Q[KCONST+1, :] = 0\n",
    "    V = np.amax(Q, axis=1)\n",
    "    \n",
    "    # training\n",
    "    for i in range(max_iters):\n",
    "        v = V\n",
    "        Q = np.sum(np.multiply(T, R) + discount * T * V, axis=2)\n",
    "        V = np.amax(Q, axis=1)\n",
    "        if np.max(np.abs(v - V)) < tolerance: break\n",
    "    print(i, 'iterations to convergence')\n",
    "    \n",
    "    return np.argmax(Q, axis=1), Q, np.sum(np.multiply(T, R), axis=2)"
   ]
  },
  {
   "cell_type": "markdown",
   "metadata": {},
   "source": [
    "# Results"
   ]
  },
  {
   "cell_type": "markdown",
   "metadata": {},
   "source": [
    "Now, we can run and save the policies obtained from each of the above rewards."
   ]
  },
  {
   "cell_type": "code",
   "execution_count": 108,
   "metadata": {
    "scrolled": false
   },
   "outputs": [
    {
     "name": "stdout",
     "output_type": "stream",
     "text": [
      "8 iterations to convergence\n",
      "8 iterations to convergence\n",
      "11 iterations to convergence\n"
     ]
    },
    {
     "data": {
      "image/png": "[encoded data removed]",
      "text/plain": [
       "<Figure size 1440x720 with 6 Axes>"
      ]
     },
     "metadata": {
      "needs_background": "light"
     },
     "output_type": "display_data"
    }
   ],
   "source": [
    "DISCOUNT = 0.98 # may want to set to 1?\n",
    "np.set_printoptions(precision=2, suppress=True)\n",
    "\n",
    "piecewise_pi, piecewise_Q, piecewise_R = vi(tmat, piecewise_reward, DISCOUNT)\n",
    "mortprob_pi, mortprob_Q, mortprob_R = vi(tmat, mortprob_reward, DISCOUNT)\n",
    "terminal_pi, terminal_Q, terminal_R = vi(tmat, terminal_reward, DISCOUNT)\n",
    "\n",
    "import matplotlib.pyplot as plt\n",
    "\n",
    "fig, ax = plt.subplots(1,6, figsize=(20,10))\n",
    "ax[0].imshow(np.where(piecewise_Q == np.max(piecewise_Q, axis=1, keepdims=True), 1, 0))\n",
    "ax[0].set_title(\"Evaluation Policy (piecewise)\")\n",
    "ax[1].imshow(np.where(mortprob_Q == np.max(mortprob_Q, axis=1, keepdims=True), 1, 0))\n",
    "ax[1].set_title(\"Evaluation Policy (mortprob)\")\n",
    "ax[2].imshow(np.where(terminal_Q == np.max(terminal_Q, axis=1, keepdims=True), 1, 0))\n",
    "ax[2].set_title(\"Evaluation Policy (terminal)\")\n",
    "ax[3].imshow(tsa_norm)\n",
    "ax[3].set_title(\"Behavior Policy\")\n",
    "ax[4].imshow(mortprobs)\n",
    "ax[4].set_title(\"Mortality\")\n",
    "a = np.zeros_like(tsa_norm)\n",
    "a[unseen_x, unseen_y]=-1\n",
    "ax[5].imshow(a)\n",
    "ax[5].set_title(\"Constraint\")\n",
    "plt.tight_layout()\n",
    "plt.show()"
   ]
  },
  {
   "cell_type": "code",
   "execution_count": 109,
   "metadata": {},
   "outputs": [],
   "source": [
    "DISCOUNT = 0.98 # may want to set to 1?\n",
    "np.set_printoptions(precision=2, suppress=True)"
   ]
  },
  {
   "cell_type": "code",
   "execution_count": 110,
   "metadata": {},
   "outputs": [
    {
     "name": "stdout",
     "output_type": "stream",
     "text": [
      "8 iterations to convergence\n"
     ]
    }
   ],
   "source": [
    "piecewise_pi, piecewise_Q, piecewise_R = vi(tmat, piecewise_reward, DISCOUNT)"
   ]
  },
  {
   "cell_type": "code",
   "execution_count": 111,
   "metadata": {},
   "outputs": [
    {
     "name": "stdout",
     "output_type": "stream",
     "text": [
      "8 iterations to convergence\n"
     ]
    }
   ],
   "source": [
    "mortprob_pi, mortprob_Q, mortprob_R = vi(tmat, mortprob_reward, DISCOUNT)"
   ]
  },
  {
   "cell_type": "code",
   "execution_count": 112,
   "metadata": {
    "scrolled": true
   },
   "outputs": [
    {
     "name": "stdout",
     "output_type": "stream",
     "text": [
      "11 iterations to convergence\n"
     ]
    }
   ],
   "source": [
    "terminal_pi, terminal_Q, terminal_R = vi(tmat, terminal_reward, DISCOUNT)"
   ]
  },
  {
   "cell_type": "code",
   "execution_count": 113,
   "metadata": {
    "scrolled": false
   },
   "outputs": [
    {
     "data": {
      "image/png": "[encoded data removed]",
      "text/plain": [
       "<Figure size 1440x720 with 6 Axes>"
      ]
     },
     "metadata": {
      "needs_background": "light"
     },
     "output_type": "display_data"
    }
   ],
   "source": [
    "import matplotlib.pyplot as plt\n",
    "\n",
    "fig, ax = plt.subplots(1,6, figsize=(20,10))\n",
    "ax[0].imshow(np.where(piecewise_Q == np.max(piecewise_Q, axis=1, keepdims=True), 1, 0))\n",
    "ax[0].set_title(\"Evaluation Policy (piecewise)\")\n",
    "ax[1].imshow(np.where(mortprob_Q == np.max(mortprob_Q, axis=1, keepdims=True), 1, 0))\n",
    "ax[1].set_title(\"Evaluation Policy (mortprob)\")\n",
    "ax[2].imshow(np.where(terminal_Q == np.max(terminal_Q, axis=1, keepdims=True), 1, 0))\n",
    "ax[2].set_title(\"Evaluation Policy (terminal)\")\n",
    "ax[3].imshow(tsa_norm)\n",
    "ax[3].set_title(\"Behavior Policy\")\n",
    "ax[4].imshow(mortprobs)\n",
    "ax[4].set_title(\"Mortality\")\n",
    "a = np.zeros_like(tsa_norm)\n",
    "a[unseen_x, unseen_y]=-1\n",
    "ax[5].imshow(a)\n",
    "ax[5].set_title(\"Constraint\")\n",
    "plt.tight_layout()\n",
    "plt.show()"
   ]
  },
  {
   "cell_type": "markdown",
   "metadata": {},
   "source": [
    "## Saving Policies"
   ]
  },
  {
   "cell_type": "code",
   "execution_count": null,
   "metadata": {},
   "outputs": [],
   "source": [
    "result_dir = \"../results/model\""
   ]
  },
  {
   "cell_type": "code",
   "execution_count": 114,
   "metadata": {},
   "outputs": [],
   "source": [
    "np.save((f'{result_dir}/piecewise_pi_' + version_date), piecewise_pi)\n",
    "np.save((f'{result_dir}/mortprob_pi_' + version_date), mortprob_pi)\n",
    "np.save((f'{result_dir}/terminal_pi_' + version_date), terminal_pi)"
   ]
  },
  {
   "cell_type": "code",
   "execution_count": 115,
   "metadata": {},
   "outputs": [],
   "source": [
    "np.save((f'{result_dir}/piecewise_Q_' + version_date), piecewise_Q)\n",
    "np.save((f'{result_dir}/mortprob_Q_' + version_date), mortprob_Q)\n",
    "np.save((f'{result_dir}/terminal_Q_' + version_date), terminal_Q)"
   ]
  },
  {
   "cell_type": "code",
   "execution_count": 116,
   "metadata": {},
   "outputs": [],
   "source": [
    "np.save((f'{result_dir}/piecewise_R_' + version_date), piecewise_R)\n",
    "np.save((f'{result_dir}/mortprob_R_' + version_date), mortprob_R)\n",
    "np.save((f'{result_dir}/terminal_R_' + version_date), terminal_R)"
   ]
  }
 ],
 "metadata": {
  "kernelspec": {
   "display_name": "Python 3 (ipykernel)",
   "language": "python",
   "name": "python3"
  },
  "language_info": {
   "codemirror_mode": {
    "name": "ipython",
    "version": 3
   },
   "file_extension": ".py",
   "mimetype": "text/x-python",
   "name": "python",
   "nbconvert_exporter": "python",
   "pygments_lexer": "ipython3",
   "version": "3.7.12"
  }
 },
 "nbformat": 4,
 "nbformat_minor": 4
}
