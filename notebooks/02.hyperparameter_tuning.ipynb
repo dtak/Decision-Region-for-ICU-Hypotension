{
 "cells": [
  {
   "cell_type": "code",
   "execution_count": 1,
   "metadata": {},
   "outputs": [],
   "source": [
    "import sys\n",
    "sys.path.append(\"YOUR/PATH/TO/ROOT/DIRECTORY\")\n",
    "import time\n",
    "\n",
    "import numpy as np\n",
    "import matplotlib.pyplot as plt\n",
    "import pickle\n",
    "from sklearn.preprocessing import StandardScaler\n",
    "from sklearn.metrics import accuracy_score, roc_auc_score, log_loss\n",
    "import torch\n",
    "\n",
    "from src.learn_kernel import LearningKernel\n",
    "from src.pipeline_mimic import feature_selection, get_train_test_action_pred"
   ]
  },
  {
   "cell_type": "markdown",
   "metadata": {},
   "source": [
    "## Preprocessing"
   ]
  },
  {
   "cell_type": "markdown",
   "metadata": {},
   "source": [
    "This is just data loading. Primary changes are to convert the data to use the TEST set rather than the train set."
   ]
  },
  {
   "cell_type": "code",
   "execution_count": 3,
   "metadata": {},
   "outputs": [],
   "source": [
    "data_path = \"YOUR/PATH/TO/DATA\"\n",
    "\n",
    "states = pickle.load(open(data_path + 'states_modified_1hr.p','rb'))\n",
    "actions = pickle.load(open(data_path + 'actions_discretized_vaso5_fluid4_1hr.p','rb'))\n",
    "rewards = pickle.load(open(data_path + 'rewards_1hr.p','rb'))"
   ]
  },
  {
   "cell_type": "code",
   "execution_count": 114,
   "metadata": {},
   "outputs": [],
   "source": [
    "pid = list(states.keys())\n",
    "X_train_ori, X_test_ori, X_next_train_ori, X_next_test_ori, y_train, y_test, \\\n",
    "R_train, R_test, train_pid, test_pid, train_hr, test_hr, \\\n",
    "train_map_below65_indices, test_map_below65_indices = \\\n",
    "get_train_test_action_pred(pid, states, actions, rewards, original=False, \n",
    "                           include_action_states=True, transform=False)\n",
    "columns = states[pid[0]].columns.append(actions[pid[0]].columns[1:7])\n",
    "multi_feat_indices = pickle.load(open('../results/intermediate/selected_feature_indices.p', 'rb'))\n",
    "column_names = columns[multi_feat_indices]"
   ]
  },
  {
   "cell_type": "code",
   "execution_count": 123,
   "metadata": {},
   "outputs": [],
   "source": [
    "a_test = np.load(path1 + 'A_test.npy')\n",
    "X_test = np.load(path1 + 'S1_test.npy')\n",
    "s1_test = X_test[test_map_below65_indices]\n",
    "X_train = np.load(path1 + 'S1_train.npy')\n",
    "s1_train = X_train[train_map_below65_indices]"
   ]
  },
  {
   "cell_type": "code",
   "execution_count": 116,
   "metadata": {},
   "outputs": [
    {
     "data": {
      "text/plain": [
       "(Counter({0: 154705, 2: 21970, 1: 5500, 3: 3496}),\n",
       " Counter({0: 154705, 2: 21970, 1: 5500, 3: 3496}))"
      ]
     },
     "execution_count": 116,
     "metadata": {},
     "output_type": "execute_result"
    }
   ],
   "source": [
    "from collections import Counter\n",
    "\n",
    "Counter(y_test), Counter(a_test)"
   ]
  },
  {
   "cell_type": "code",
   "execution_count": 103,
   "metadata": {},
   "outputs": [
    {
     "data": {
      "text/plain": [
       "<All keys matched successfully>"
      ]
     },
     "execution_count": 103,
     "metadata": {},
     "output_type": "execute_result"
    }
   ],
   "source": [
    "kernel_dict = torch.load('../results/model//multi_withindics_interpret_kernel_setseed888')\n",
    "\n",
    "torch.manual_seed(888)\n",
    "kernel = LearningKernel(s1_test.shape[1], 4, 500, interpret=True)\n",
    "kernel.load_state_dict(kernel_dict)"
   ]
  },
  {
   "cell_type": "code",
   "execution_count": 104,
   "metadata": {},
   "outputs": [],
   "source": [
    "def onehot_actions(A):\n",
    "    # convert A to one-hot matrix\n",
    "    num_actions = len(np.unique(A))\n",
    "    onehot = np.zeros((len(A), num_actions))\n",
    "    onehot[np.arange(len(A)), A] = 1\n",
    "    return onehot"
   ]
  },
  {
   "cell_type": "code",
   "execution_count": 105,
   "metadata": {},
   "outputs": [],
   "source": [
    "z1_test = kernel.trans_to_rff(s1_test)\n",
    "onehot_test = onehot_actions(a_test)[test_map_below65_indices]"
   ]
  },
  {
   "cell_type": "markdown",
   "metadata": {},
   "source": [
    "## Distance Exploration"
   ]
  },
  {
   "cell_type": "markdown",
   "metadata": {},
   "source": [
    "Below, to get a general sense of the distance distribution, we sample 5000 random points and compute the pairwise distances. We then plot a histogram. It appears the distribution is quite strongly skewed right. "
   ]
  },
  {
   "cell_type": "code",
   "execution_count": 107,
   "metadata": {},
   "outputs": [],
   "source": [
    "seed = 888\n",
    "samplesize = 5000\n",
    "\n",
    "np.random.seed(seed)\n",
    "sample_idx = np.random.choice(range(len(z1_test)), samplesize, replace=False)\n",
    "z = z1_test[sample_idx]\n",
    "\n",
    "distancelist = np.matrix.flatten(np.matmul(z, z.T))    "
   ]
  },
  {
   "cell_type": "code",
   "execution_count": 19,
   "metadata": {},
   "outputs": [
    {
     "data": {
      "text/plain": [
       "(array([5.546000e+03, 2.462060e+05, 1.941396e+06, 6.566484e+06,\n",
       "        6.950700e+06, 4.404884e+06, 8.711240e+05, 5.469200e+04,\n",
       "        3.935000e+04, 4.174400e+04, 3.956000e+04, 3.827800e+04,\n",
       "        5.020800e+04, 5.547600e+04, 7.074400e+04, 9.957600e+04,\n",
       "        1.485480e+05, 2.486720e+05, 3.963420e+05, 4.452160e+05,\n",
       "        2.221140e+05, 8.132600e+04, 1.111540e+05, 1.645860e+05,\n",
       "        2.535840e+05, 4.315300e+05, 5.222250e+05, 4.671280e+05,\n",
       "        2.641400e+04, 5.193000e+03]),\n",
       " array([-1.6873531e-01, -1.2649515e-01, -8.4254980e-02, -4.2014819e-02,\n",
       "         2.2534629e-04,  4.2465512e-02,  8.4705673e-02,  1.2694584e-01,\n",
       "         1.6918600e-01,  2.1142617e-01,  2.5366634e-01,  2.9590648e-01,\n",
       "         3.3814666e-01,  3.8038683e-01,  4.2262700e-01,  4.6486714e-01,\n",
       "         5.0710732e-01,  5.4934746e-01,  5.9158766e-01,  6.3382781e-01,\n",
       "         6.7606795e-01,  7.1830815e-01,  7.6054829e-01,  8.0278844e-01,\n",
       "         8.4502864e-01,  8.8726878e-01,  9.2950898e-01,  9.7174913e-01,\n",
       "         1.0139893e+00,  1.0562295e+00,  1.0984696e+00], dtype=float32),\n",
       " <a list of 30 Patch objects>)"
      ]
     },
     "execution_count": 19,
     "metadata": {},
     "output_type": "execute_result"
    },
    {
     "data": {
      "image/png": "[encoded data removed]",
      "text/plain": [
       "<Figure size 432x288 with 1 Axes>"
      ]
     },
     "metadata": {},
     "output_type": "display_data"
    }
   ],
   "source": [
    "plt.hist(distancelist, bins=30)"
   ]
  },
  {
   "cell_type": "markdown",
   "metadata": {},
   "source": [
    "The code below performs the action prediction based on neighbors."
   ]
  },
  {
   "cell_type": "code",
   "execution_count": 118,
   "metadata": {},
   "outputs": [],
   "source": [
    "def test_radius(Z1, A, r, seed=888, samplesize=1e4, batchsize=1000):\n",
    "    '''Estimate the points radius in learned kernel space'''\n",
    "    \n",
    "    # transform to z-space and draw sample\n",
    "    np.random.seed(seed)\n",
    "    sample_idx = np.random.choice(range(len(Z1)), samplesize, replace=False)\n",
    "    z = Z1[sample_idx]\n",
    "    a = A[sample_idx]\n",
    "    avg_a = np.mean(a, axis=0)\n",
    "    \n",
    "    # predict actions by averaging neighbor votes\n",
    "    num_batches = samplesize // batchsize\n",
    "    num_actions = A.shape[1]\n",
    "    a_hat_ls = []\n",
    "    \n",
    "    for i in range(num_batches + 1):\n",
    "        t0 = time.time()\n",
    "        batch_z = z[i * batchsize:min((i + 1) * batchsize, samplesize)]\n",
    "        batch_neighbors = np.matmul(batch_z, z.T) > r\n",
    "        a_hat_ls.append(np.matmul(batch_neighbors, a))\n",
    "        t1 = time.time()\n",
    "    a_hat = np.vstack(a_hat_ls)\n",
    "\n",
    "    # remove self from count\n",
    "    self_count = (np.sum(np.square(z), axis=1, keepdims=True) > r) * a\n",
    "    a_hat = a_hat - self_count\n",
    "    \n",
    "    # normalize over rows, setting 0s to dataset average\n",
    "    a_hat[np.sum(a_hat, axis=1) == 0] = avg_a\n",
    "    a_hat = a_hat / np.sum(a_hat, axis=1, keepdims=True)\n",
    "    \n",
    "    # return accuracy, auc, and cross-entropy loss\n",
    "    acc = accuracy_score(np.argmax(a, axis=1), np.argmax(a_hat, axis=1))\n",
    "    auc = multiclass_roc_auc_score(np.argmax(a, axis=1), np.argmax(a_hat, axis=1))\n",
    "    cel = log_loss(a, a_hat) # unweighted \n",
    "    \n",
    "    return acc, auc, cel"
   ]
  },
  {
   "cell_type": "markdown",
   "metadata": {},
   "source": [
    "## Testing"
   ]
  },
  {
   "cell_type": "markdown",
   "metadata": {},
   "source": [
    "In this section, we run the above code for a large range of `r` values, different seeds (but same across each r), sample size 20,000 and batch size 5,000."
   ]
  },
  {
   "cell_type": "code",
   "execution_count": 26,
   "metadata": {},
   "outputs": [
    {
     "name": "stdout",
     "output_type": "stream",
     "text": [
      "0.55\n",
      "(0.8821, 0.7388199396103585, 0.7311434585914937)\n",
      "(0.8814, 0.7343841020149935, 0.7173904616793367)\n",
      "(0.87795, 0.7233920596304504, 0.7426766541177814)\n",
      "(0.88365, 0.7279924624051337, 0.7178705090392936)\n",
      "(0.8794, 0.729719952390307, 0.6835177342425311)\n",
      "0.65\n",
      "(0.8823, 0.744433711716098, 0.8364263777842461)\n",
      "(0.88215, 0.7406377515421194, 0.8026854448818748)\n",
      "(0.8796, 0.7319004136372914, 0.834381527828988)\n",
      "(0.8835, 0.7331617396006813, 0.7982847389166892)\n",
      "(0.8813, 0.7350354659484446, 0.7711039593904215)\n",
      "0.75\n",
      "(0.88425, 0.7508311731408761, 0.8992417611248628)\n",
      "(0.88355, 0.7483844540264718, 0.8983785788848765)\n",
      "(0.8807, 0.7362876811756737, 0.9072313768117399)\n",
      "(0.88345, 0.7351770029116594, 0.8700224554303017)\n",
      "(0.88215, 0.7408030525609968, 0.8693825285257372)\n",
      "0.8\n",
      "(0.88415, 0.7539574287545594, 0.9553612501147903)\n",
      "(0.8843, 0.7546435617991407, 0.9731516619004579)\n",
      "(0.882, 0.743629681931869, 0.9596357413649286)\n",
      "(0.8838, 0.7380464175815742, 0.9399227897613369)\n",
      "(0.883, 0.7449605500542504, 0.9602868500739536)\n",
      "0.85\n",
      "(0.8856, 0.758018654622154, 1.0614794964734)\n",
      "(0.88485, 0.7567123504723988, 1.0832605661990966)\n",
      "(0.8811, 0.7436601403568017, 1.0892040084254384)\n",
      "(0.88495, 0.7399243580692674, 1.0463462481911543)\n",
      "(0.88365, 0.751863388770062, 1.0868514940857592)\n",
      "0.9\n",
      "(0.883, 0.747501345935965, 1.2481882241291404)\n",
      "(0.88475, 0.7493982470274245, 1.2804747162947527)\n",
      "(0.8781, 0.7332238944764762, 1.2881772578082857)\n",
      "(0.88145, 0.7324952285178153, 1.290698978766704)\n",
      "(0.8805, 0.738985269702245, 1.2445804622353225)\n",
      "0.95\n",
      "(0.8672, 0.680298002498463, 1.4984680876064935)\n",
      "(0.869, 0.6807752259101939, 1.504338201276671)\n",
      "(0.8652, 0.6774200505235749, 1.5749399089754215)\n",
      "(0.8668, 0.6672362708201784, 1.5860366137186677)\n",
      "(0.8648, 0.6720582262934207, 1.5293333367379194)\n"
     ]
    }
   ],
   "source": [
    "result_ls = []\n",
    "r_ls = []\n",
    "\n",
    "# for r in [0, 0.2, 0.4, 0.5, 0.6, 0.7, 0.8, 0.85, 0.9, 0.95]:\n",
    "for r in [0.55, 0.65, 0.75, 0.8, 0.85, 0.9, 0.95]:\n",
    "    print(r)\n",
    "    r_ls.append(r)\n",
    "    for seed in [1, 2, 3, 4, 5]:\n",
    "        t0 = time.time()\n",
    "        result_ls.append(test_radius(z1_test, onehot_test, r, seed=seed, \n",
    "                                     samplesize=20000, batchsize=5000))\n",
    "        print(result_ls[-1])\n",
    "        t1 = time.time()"
   ]
  },
  {
   "cell_type": "code",
   "execution_count": 121,
   "metadata": {},
   "outputs": [],
   "source": [
    "metric_means = []\n",
    "metric_sds = []\n",
    "\n",
    "for m in range(3):\n",
    "    metric_means.append([])\n",
    "    metric_sds.append([])\n",
    "    for i in range(len(r_ls)):\n",
    "        metrics = np.array([x[m] for x in result_ls[5 * i : 5 * (i+1)]])\n",
    "        metric_means[-1].append(np.mean(metrics))\n",
    "        metric_sds[-1].append(np.std(metrics))"
   ]
  },
  {
   "cell_type": "markdown",
   "metadata": {},
   "source": [
    "## Results"
   ]
  },
  {
   "cell_type": "markdown",
   "metadata": {},
   "source": [
    "This plot shows the results for each of the metrics (accuracy, auc, and cross-entropy loss)."
   ]
  },
  {
   "cell_type": "code",
   "execution_count": 122,
   "metadata": {},
   "outputs": [
    {
     "data": {
      "text/plain": [
       "<matplotlib.legend.Legend at 0x1d2e9204a8>"
      ]
     },
     "execution_count": 122,
     "metadata": {},
     "output_type": "execute_result"
    },
    {
     "data": {
      "image/png": "[encoded data removed]",
      "text/plain": [
       "<Figure size 360x504 with 1 Axes>"
      ]
     },
     "metadata": {
      "needs_background": "light"
     },
     "output_type": "display_data"
    }
   ],
   "source": [
    "plt.figure(figsize=(5, 7))\n",
    "order = np.argsort(np.array(r_ls))\n",
    "metric_names = ['acc', 'auc', 'cel']\n",
    "for m in range(3):\n",
    "    plt.errorbar(np.array(r_ls)[order], np.array(metric_means[m])[order], \n",
    "                 yerr=np.array(metric_sds[m])[order],\n",
    "             label=metric_names[m])\n",
    "plt.legend()"
   ]
  },
  {
   "cell_type": "markdown",
   "metadata": {},
   "source": [
    "## Conclusions"
   ]
  },
  {
   "cell_type": "markdown",
   "metadata": {},
   "source": [
    "From the AUC and ACC, an r around 0.85 seems to be best. This is surprisingly much lower than our previous choices of r. The (unbalanced) cross-entropy loss supports smaller `r`, but this seems less important compared to AUC. "
   ]
  }
 ],
 "metadata": {
  "kernelspec": {
   "display_name": "Python 3 (ipykernel)",
   "language": "python",
   "name": "python3"
  },
  "language_info": {
   "codemirror_mode": {
    "name": "ipython",
    "version": 3
   },
   "file_extension": ".py",
   "mimetype": "text/x-python",
   "name": "python",
   "nbconvert_exporter": "python",
   "pygments_lexer": "ipython3",
   "version": "3.7.12"
  }
 },
 "nbformat": 4,
 "nbformat_minor": 4
}
